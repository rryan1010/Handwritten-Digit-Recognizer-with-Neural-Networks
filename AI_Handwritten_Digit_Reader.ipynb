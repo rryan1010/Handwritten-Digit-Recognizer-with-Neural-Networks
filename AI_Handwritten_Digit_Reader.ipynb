{
  "nbformat": 4,
  "nbformat_minor": 0,
  "metadata": {
    "colab": {
      "provenance": [],
      "collapsed_sections": [
        "xD8pta-Tzkm0"
      ],
      "gpuType": "L4"
    },
    "kernelspec": {
      "name": "python3",
      "display_name": "Python 3"
    },
    "language_info": {
      "name": "python"
    },
    "accelerator": "GPU"
  },
  "cells": [
    {
      "cell_type": "markdown",
      "source": [
        "## Introduction\n",
        "---\n",
        "\n",
        "In this programming assignment, we will train a neural net for caption generation.\n",
        "This neural network is made of two components: a feed forward convolutional net (CNN) --- to extract features from the images --- and a recurrent neural net (RNN) --- to output a variable length caption for each input image.\n",
        "We will use MNIST (handwritten digits) dataset for this purpose.\n",
        "\n",
        "## Instructions\n",
        "---\n",
        "\n",
        "You should perform this assignment using Google Colab.\n",
        "* Go through the notebook and ensure that you have answered all questions.\n",
        "* Finally, submit the ipynb `File > Download > Download .ipynb` on Brightspace\n",
        "\n",
        "---\n",
        "This code snippet imports necessary libraries for working with numerical and\n",
        "image data, defines the device for computation (either GPU or CPU), and sets up tools for building and training neural networks using PyTorch, a popular deep learning framework."
      ],
      "metadata": {
        "id": "rUfJXYK6N3sc"
      }
    },
    {
      "cell_type": "code",
      "execution_count": null,
      "metadata": {
        "id": "sPhXVnjeGT2q"
      },
      "outputs": [],
      "source": [
        "# Import libraries\n",
        "import numpy as np\n",
        "import matplotlib.pyplot as plt\n",
        "\n",
        "import torch\n",
        "from torch import nn, optim\n",
        "from torch.nn import functional; nn.f = functional\n",
        "from torch.nn.utils.rnn import pad_sequence\n",
        "from torch.optim import lr_scheduler\n",
        "from torchvision import datasets, transforms\n",
        "import string\n",
        "import torchvision\n",
        "from torchsummary import summary\n",
        "from torch.utils.data import Dataset, DataLoader\n",
        "\n",
        "# Use this constant to decide on which device to run the training - On Colab 'cuda:0' and 'cpu' refers to GPU and CPU respectively\n",
        "device = 'cuda:0' if torch.cuda.is_available() else 'cpu'"
      ]
    },
    {
      "cell_type": "markdown",
      "source": [
        "## Data loading\n",
        "---\n",
        "\n",
        "This code snippet sets up data pre-processing and creates data loaders for training and testing using the MNIST data set, which is commonly used for hand-written digit classification tasks in machine learning.\n",
        "\n",
        "`DataLoader`s abstract outs the loading of a data set and iterating batches of the loaded data set. You can read the documentation to learn more about `DataLoader`s and `Dataset`s [`DataLoader`s and `Dataset`s](https://pytorch.org/tutorials/beginner/basics/data_tutorial.html)"
      ],
      "metadata": {
        "id": "oM7uKdhwRhhe"
      }
    },
    {
      "cell_type": "code",
      "source": [
        "# Batch options\n",
        "batch_size = 128  # input batch size for training\n",
        "test_batch = 1    # test batch size\n",
        "\n",
        "# Normalizes the input images for a better training\n",
        "data_transform = transforms.Compose([\n",
        "        transforms.ToTensor(),\n",
        "        transforms.Normalize((0.1307,), (0.3081,))\n",
        "    ])\n",
        "\n",
        "# Get train and test loaders to load MNIST data\n",
        "trainset = datasets.MNIST(root='.', train=True, download=True, transform=data_transform)\n",
        "testset = datasets.MNIST(root='.', train=False, download=True, transform=data_transform)\n",
        "\n",
        "# Create the dataloaders on which we can iterate to get the data in batch_size chunks\n",
        "train_loader = torch.utils.data.DataLoader(trainset, batch_size=batch_size, shuffle=True, num_workers=0)\n",
        "test_loader  = torch.utils.data.DataLoader(testset, batch_size=test_batch, shuffle=False, num_workers=0)"
      ],
      "metadata": {
        "id": "TfTRYSNqJwq4",
        "colab": {
          "base_uri": "https://localhost:8080/"
        },
        "outputId": "8f64d4f7-ca28-49c3-a6f8-c5c79c6a6586"
      },
      "execution_count": null,
      "outputs": [
        {
          "output_type": "stream",
          "name": "stdout",
          "text": [
            "Downloading http://yann.lecun.com/exdb/mnist/train-images-idx3-ubyte.gz\n",
            "Failed to download (trying next):\n",
            "HTTP Error 403: Forbidden\n",
            "\n",
            "Downloading https://ossci-datasets.s3.amazonaws.com/mnist/train-images-idx3-ubyte.gz\n",
            "Downloading https://ossci-datasets.s3.amazonaws.com/mnist/train-images-idx3-ubyte.gz to ./MNIST/raw/train-images-idx3-ubyte.gz\n"
          ]
        },
        {
          "output_type": "stream",
          "name": "stderr",
          "text": [
            "100%|██████████| 9912422/9912422 [00:01<00:00, 5077538.30it/s]\n"
          ]
        },
        {
          "output_type": "stream",
          "name": "stdout",
          "text": [
            "Extracting ./MNIST/raw/train-images-idx3-ubyte.gz to ./MNIST/raw\n",
            "\n",
            "Downloading http://yann.lecun.com/exdb/mnist/train-labels-idx1-ubyte.gz\n",
            "Failed to download (trying next):\n",
            "HTTP Error 403: Forbidden\n",
            "\n",
            "Downloading https://ossci-datasets.s3.amazonaws.com/mnist/train-labels-idx1-ubyte.gz\n",
            "Downloading https://ossci-datasets.s3.amazonaws.com/mnist/train-labels-idx1-ubyte.gz to ./MNIST/raw/train-labels-idx1-ubyte.gz\n"
          ]
        },
        {
          "output_type": "stream",
          "name": "stderr",
          "text": [
            "100%|██████████| 28881/28881 [00:00<00:00, 134717.21it/s]\n"
          ]
        },
        {
          "output_type": "stream",
          "name": "stdout",
          "text": [
            "Extracting ./MNIST/raw/train-labels-idx1-ubyte.gz to ./MNIST/raw\n",
            "\n",
            "Downloading http://yann.lecun.com/exdb/mnist/t10k-images-idx3-ubyte.gz\n",
            "Failed to download (trying next):\n",
            "HTTP Error 403: Forbidden\n",
            "\n",
            "Downloading https://ossci-datasets.s3.amazonaws.com/mnist/t10k-images-idx3-ubyte.gz\n",
            "Downloading https://ossci-datasets.s3.amazonaws.com/mnist/t10k-images-idx3-ubyte.gz to ./MNIST/raw/t10k-images-idx3-ubyte.gz\n"
          ]
        },
        {
          "output_type": "stream",
          "name": "stderr",
          "text": [
            "100%|██████████| 1648877/1648877 [00:01<00:00, 1271334.88it/s]\n"
          ]
        },
        {
          "output_type": "stream",
          "name": "stdout",
          "text": [
            "Extracting ./MNIST/raw/t10k-images-idx3-ubyte.gz to ./MNIST/raw\n",
            "\n",
            "Downloading http://yann.lecun.com/exdb/mnist/t10k-labels-idx1-ubyte.gz\n",
            "Failed to download (trying next):\n",
            "HTTP Error 403: Forbidden\n",
            "\n",
            "Downloading https://ossci-datasets.s3.amazonaws.com/mnist/t10k-labels-idx1-ubyte.gz\n",
            "Downloading https://ossci-datasets.s3.amazonaws.com/mnist/t10k-labels-idx1-ubyte.gz to ./MNIST/raw/t10k-labels-idx1-ubyte.gz\n"
          ]
        },
        {
          "output_type": "stream",
          "name": "stderr",
          "text": [
            "100%|██████████| 4542/4542 [00:00<00:00, 4796205.63it/s]"
          ]
        },
        {
          "output_type": "stream",
          "name": "stdout",
          "text": [
            "Extracting ./MNIST/raw/t10k-labels-idx1-ubyte.gz to ./MNIST/raw\n",
            "\n"
          ]
        },
        {
          "output_type": "stream",
          "name": "stderr",
          "text": [
            "\n"
          ]
        }
      ]
    },
    {
      "cell_type": "markdown",
      "source": [
        "# 1 Preprocessing\n",
        "## 1.1 Auxiliary data creation\n",
        "---\n",
        "First, let's setup `labelDict` and `vocab` for our problem statement. For this,\n",
        "1. MNIST data set, consists of images and their corresponding labels of the form `{0, 1, 2, …}`.\n",
        "First let's build a dictionary mapping labels to `<b>` $\\phi$ `<e>`, where $\\phi \\in \\lbrace \\texttt{zero}, \\texttt{one}, \\texttt{two}, \\ldots , \\texttt{nine}\\rbrace$.\n",
        "\n",
        "2. Build a lookup table for each unique tokens in the strings. Your `vocab` list, before sorting, should look like: `['<b>', 'z', 'e', 'r', 'o', '<e>', …]`.\n",
        "\n",
        "Next, complete the following two functions:\n",
        "1.   `label_to_onehot_sequence()` to convert a label to its one-hot sequence, representing the sequence of tokens. You may want to look at [`functional.one_hot` documentation](https://pytorch.org/docs/stable/generated/torch.nn.functional.one_hot.html) for reference.\n",
        "2. and `token_idx_to_token()` to convert the list of token indices to their corresponding string of characters.\n",
        "\n",
        "The functions below are heavily annotated so that you understand what each function is doing and how can you use them for your use case.\n",
        "The `assert` is a simple way for testing the correctness of your implementation."
      ],
      "metadata": {
        "id": "QfyOh8yrQpXr"
      }
    },
    {
      "cell_type": "code",
      "source": [
        "labelDict = {\n",
        "    0: ['<b>', 'z', 'e', 'r', 'o', '<e>'],\n",
        "    1: ['<b>', 'o', 'n', 'e', '<e>'],\n",
        "    2: ['<b>', 't', 'w', 'o', '<e>'],\n",
        "    3: ['<b>', 't', 'h', 'r', 'e', 'e', '<e>'],\n",
        "    4: ['<b>', 'f', 'o', 'u', 'r', '<e>'],\n",
        "    5: ['<b>', 'f', 'i', 'v', 'e', '<e>'],\n",
        "    6: ['<b>', 's', 'i', 'x', '<e>'],\n",
        "    7: ['<b>', 's', 'e', 'v', 'e', 'n', '<e>'],\n",
        "    8: ['<b>', 'e', 'i', 'g', 'h', 't', '<e>'],\n",
        "    9: ['<b>', 'n', 'i', 'n', 'e', '<e>']\n",
        "}\n",
        "vocab = []\n",
        "\n",
        "for tokens in labelDict.values():\n",
        "    for token in tokens:\n",
        "        if token not in vocab:\n",
        "            vocab.append(token)\n",
        "# Create dictionary and Lookup Table ###########################################\n",
        "# TODO📝: labelDict = dictionary of sequences of tokens such that it converts\n",
        "#       label to digit into strings.\n",
        "# TODO📝: vocab = list of all the unique tokens in labelDict.\n",
        "################################################################################\n",
        "print(vocab)\n",
        "vocab.sort()\n",
        "vocab_size = len(vocab)\n",
        "print(vocab)\n",
        "\n",
        "# Testing that your lookup tables are setup correctly\n",
        "assert(vocab_size == 17)\n",
        "assert(len(labelDict) == 10)"
      ],
      "metadata": {
        "id": "QPOJLA7ommbp",
        "colab": {
          "base_uri": "https://localhost:8080/"
        },
        "outputId": "2624fe4b-9729-4a27-ef6f-4b2cca537bbf"
      },
      "execution_count": null,
      "outputs": [
        {
          "output_type": "stream",
          "name": "stdout",
          "text": [
            "['<b>', 'z', 'e', 'r', 'o', '<e>', 'n', 't', 'w', 'h', 'f', 'u', 'i', 'v', 's', 'x', 'g']\n",
            "['<b>', '<e>', 'e', 'f', 'g', 'h', 'i', 'n', 'o', 'r', 's', 't', 'u', 'v', 'w', 'x', 'z']\n"
          ]
        }
      ]
    },
    {
      "cell_type": "code",
      "source": [
        "################################################################################\n",
        "###################### DO NOT MODIFY THIS CELL #################################\n",
        "################################################################################\n",
        "# Some utility functions to check if your code is working as intended\n",
        "def assert_encoding(actual, expected):\n",
        "  assert(type(actual) == type(torch.tensor(0))) # Your output is not of type tensor, please ensure that your function should output tensors\n",
        "  if(not((expected.numpy() == actual.numpy()).all())):\n",
        "    print('expected: ', expected)\n",
        "    print('actual: ', actual)\n",
        "    assert((expected.numpy() == actual.numpy()).all())\n",
        "\n",
        "# Utility function to assert shape of a tensor, for debugging purpose\n",
        "def shapeChecker(x, y):\n",
        "  assert(x.shape == y.shape)\n",
        "\n",
        "# Get the index of a token in the vocab\n",
        "def get_idx(letter):\n",
        "    return [i for i, x in enumerate(vocab) if (letter == x)][0]\n",
        "################################################################################"
      ],
      "metadata": {
        "id": "hcsxQoFnoMi0"
      },
      "execution_count": null,
      "outputs": []
    },
    {
      "cell_type": "code",
      "source": [
        "# Function to convert a list of labels to a list of one-hot matrix\n",
        "def label_to_onehot_sequence(label):\n",
        "    # Map label -> one-hot sequence ############################################\n",
        "    # TODO📝: complete the function converting a single label to its corresponsing one-hot\n",
        "    # in: 9 out: one-hot('<b>nine<e>')\n",
        "    ############################################################################\n",
        "    # Gets the strings that are paired to the 3rd index(example)\n",
        "    tokens = labelDict[label.item()]\n",
        "    # Convert each token into its index value in 'vocab'\n",
        "    indices = [vocab.index(token) for token in tokens]\n",
        "    # Convert each of the indices to one-hot vectors so\n",
        "    # h = [0 , 0 , 0, 0, 0, 1, 0, 0, 0, 0, 0, 0, 0, 0, 0, 0, 0]\n",
        "    #                       |\n",
        "    #    [<b>,<e>, e, f, g, h, i, n, o, r, s, t, u, v, w, x, z]\n",
        "    onehot_seq = torch.nn.functional.one_hot(torch.tensor(indices), num_classes=len(vocab)).float()\n",
        "    return onehot_seq\n",
        "\n",
        "\n",
        "assert_encoding(label_to_onehot_sequence(torch.tensor(3)),\n",
        "  torch.tensor([[\n",
        "    [1, 0, 0, 0, 0, 0, 0, 0, 0, 0, 0, 0, 0, 0, 0, 0, 0],   # <b>\n",
        "    [0, 0, 0, 0, 0, 0, 0, 0, 0, 0, 0, 1, 0, 0, 0, 0, 0],   #  t\n",
        "    [0, 0, 0, 0, 0, 1, 0, 0, 0, 0, 0, 0, 0, 0, 0, 0, 0],   #  h\n",
        "    [0, 0, 0, 0, 0, 0, 0, 0, 0, 1, 0, 0, 0, 0, 0, 0, 0],   #  r\n",
        "    [0, 0, 1, 0, 0, 0, 0, 0, 0, 0, 0, 0, 0, 0, 0, 0, 0],   #  e\n",
        "    [0, 0, 1, 0, 0, 0, 0, 0, 0, 0, 0, 0, 0, 0, 0, 0, 0],   #  e\n",
        "    [0, 1, 0, 0, 0, 0, 0, 0, 0, 0, 0, 0, 0, 0, 0, 0, 0]]], # <e>\n",
        "    dtype=torch.float32))"
      ],
      "metadata": {
        "id": "ODtMG2xbjydT"
      },
      "execution_count": null,
      "outputs": []
    },
    {
      "cell_type": "code",
      "source": [
        "################################################################################\n",
        "###################### DO NOT MODIFY THIS CELL #################################\n",
        "################################################################################\n",
        "def batch_of_labels_to_onehot_matrix(labels):\n",
        "    # Convert labels to one-hot tensors\n",
        "    onehot_inputs = [label_to_onehot_sequence(label) for label in labels]\n",
        "\n",
        "    # Pad the length of string since, matrix operation requires fixed-size rows\n",
        "    max_len = max(len(onehot) for onehot in onehot_inputs)\n",
        "    padded_onehot = pad_sequence(onehot_inputs, batch_first=True, padding_value= 0)\n",
        "    return max_len, padded_onehot\n",
        "\n",
        "# Convert label to label onehot - used in the next to feed argmax input to RNN\n",
        "def label_to_onehot(target):\n",
        "    return nn.f.one_hot(target, num_classes=10).to(torch.float32)\n",
        "################################################################################"
      ],
      "metadata": {
        "id": "_azynUKYsnPH"
      },
      "execution_count": null,
      "outputs": []
    },
    {
      "cell_type": "code",
      "source": [
        "# To convert token indices predicted by our model back to characters and form the word\n",
        "def token_idx_to_token(input):\n",
        "\n",
        "    # Convert list of token idx to '<b>φ<e>' ##################################\n",
        "    # TODO📝: complete the function to convert a list of token indices to the format '<b>φ<e>'\n",
        "    # For each index in the input list, get the corresponding token from vocab, to build the output word\n",
        "    # example input -> [ 0, 3, 6, 13, 2, 1] -> '<b>five<e>'\n",
        "    #                    ⬇  ⬇  ⬇   ⬇  ⬇  ⬇\n",
        "    #                   <b> f  i   v  e <e>\n",
        "    tokens = [vocab[idx] for idx in input]\n",
        "    word = ''.join(tokens)\n",
        "    return word\n",
        "print(token_idx_to_token([0, 3,  6, 13,  2,  1]))\n",
        "assert(token_idx_to_token([0, 3,  6, 13,  2,  1]) == '<b>five<e>')"
      ],
      "metadata": {
        "id": "kKUMCyjYWGin",
        "colab": {
          "base_uri": "https://localhost:8080/"
        },
        "outputId": "607f905e-d950-4298-fef3-87140f53505c"
      },
      "execution_count": null,
      "outputs": [
        {
          "output_type": "stream",
          "name": "stdout",
          "text": [
            "<b>five<e>\n"
          ]
        }
      ]
    },
    {
      "cell_type": "markdown",
      "source": [
        "## 1.2 Data Exploration\n",
        "---\n",
        "1. Write code to fetch a batch from the `train_loader` and display the first 10 images along with their respective sequence of tokens which will be of the form `<b>` $\\phi$ `<e>`, where $\\phi \\in \\lbrace \\texttt{zero}, \\texttt{one}, \\texttt{two}, \\ldots, \\texttt{nine}\\rbrace$.\n",
        "\n",
        "Use `matplotlib` and Jupyter notebook's visualisation capabilities. See this [PyTorch tutorial page](https://pytorch.org/tutorials/beginner/blitz/cifar10_tutorial.html) for hints on how display images."
      ],
      "metadata": {
        "id": "pv1RgBq6g11d"
      }
    },
    {
      "cell_type": "code",
      "source": [
        "# Visualise the dataset images #################################################\n",
        "# TODO📝: Fetch a batch from the train_loader and display the first 10 images along\n",
        "#       with the label and the respective token sequence of the form <b>φ<e>\n",
        "################################################################################\n",
        "def visualise_images(train_loader, num_images=10):\n",
        "    # Your code goes here\n",
        "    images, labels = next(iter(train_loader))  # Get a single batch\n",
        "    images, labels = images[:num_images], labels[:num_images]  # Select first `num_images` (default is 10)\n",
        "\n",
        "    # Step 2: Set up the plot to visualize images\n",
        "    fig, axes = plt.subplots(1, num_images, figsize=(15, 15))  # Create a grid for displaying images\n",
        "\n",
        "    for idx, (image, label) in enumerate(zip(images, labels)):\n",
        "        # Step 3: Display the image\n",
        "        axes[idx].imshow(image.squeeze(), cmap='gray')  # Display the image (28x28)\n",
        "\n",
        "        # Step 4: Fetch the corresponding token sequence for the label\n",
        "        token_sequence = token_idx_to_token([vocab.index(t) for t in labelDict[label.item()]])  # Convert label to token sequence\n",
        "\n",
        "        # Step 5: Set the title to display the token sequence\n",
        "        axes[idx].set_title(f\"Label: {label.item()}\\n{token_sequence}\", fontsize=10)  # Show the digit and its token sequence\n",
        "\n",
        "        # Remove the axis for a cleaner look\n",
        "        axes[idx].axis('off')\n",
        "\n",
        "    plt.show()\n",
        "    pass\n",
        "\n",
        "# Call the function to visualize the images along with the label\n",
        "visualise_images(train_loader)  # Assuming `train_loader` is your DataLoader object"
      ],
      "metadata": {
        "id": "-P9WZJC_gyoc",
        "colab": {
          "base_uri": "https://localhost:8080/",
          "height": 126
        },
        "outputId": "aa869942-b745-4ebf-c993-627ba6fff27a"
      },
      "execution_count": null,
      "outputs": [
        {
          "output_type": "display_data",
          "data": {
            "text/plain": [
              "<Figure size 1500x1500 with 10 Axes>"
            ],
            "image/png": "[encoded data removed]"
          },
          "metadata": {}
        }
      ]
    },
    {
      "cell_type": "markdown",
      "source": [
        "## Training and Validation Functions\n",
        "---\n",
        "⛔️⛔️⛔️ **Skip this cell for now, and you will have to revisit this cell 3 times, once you have defined your models in Section 2.1, 2.2, and 2.3.**\n",
        "\n",
        "Below are the `train()` and `evaluate()` procedures that you will call using your model to train your model and get accuracy on the validation set respectively. A few lines are omitted in the functions. Complete the following parts:\n",
        "\n",
        "1. Select the appropriate loss function for the tasks.\n",
        "2. Perform the forward pass of the model.\n",
        "3. Compute the loss.\n",
        "4. Zero the gradients of the parameters for no gradient aggregation.\n",
        "5. Compute gradients.\n",
        "6. Optimization step.\n",
        "\n",
        "Please go through both functions thoroughly to understand how accuracy is calculated and how input augmentation is performed before sending it to our models. This way, for other similar tasks, you can emulate similar functions in the future.\n",
        "\n",
        "**`train()`** takes input parameters - **`num_epoch`, `optimiser`, `model`, `dataloader`, and `mode`**.\n",
        "\n",
        "**`mode`** can have the following enums:\n",
        "\n",
        "- `'ENCODER'` for training/evaluating CNN classifier - Section 2.1\n",
        "- `'DECODER'` for training/evaluating the RNN model - Section 2.2\n",
        "- `'MODULAR'` for evaluating the modular approach - Section 2.3\n",
        "- `'E2E'` for training/evaluating the Sections 2.4 and 2.5\n",
        "\n",
        "`evaluate()` takes input parameters - `model`, `dataloader`, and `mode`."
      ],
      "metadata": {
        "id": "HTIS2SX4hzNu"
      }
    },
    {
      "cell_type": "code",
      "source": [
        "################################################################################\n",
        "###################### DO NOT MODIFY THIS CELL #################################\n",
        "################################################################################\n",
        "# Utility function to print statistics for debugging as well as modifies target and output for accuracy calculation\n",
        "def trainUtility(batch_idx, epoch, output, target, padded_onehot):\n",
        "    # Printing statistics for easy debugging\n",
        "    if batch_idx == 1 or (epoch != None and epoch%500==0):\n",
        "        _, pred_idx = torch.max(output, dim=-1)\n",
        "        _, true_idx = torch.max(padded_onehot[:, 1:, :], dim=-1)\n",
        "        print('acc: ', torch.sum(pred_idx == true_idx)/(pred_idx.shape[0]*pred_idx.shape[1]))\n",
        "        print(pred_idx[0, :], true_idx[0, :])\n",
        "\n",
        "    # Converting output of size (batch_size x max_word_length-1 x vocab_size) -> ((batch_size*(max_word_length-1)) x vocab_size)\n",
        "    output =  output.view(-1, vocab_size)\n",
        "    # Converting the true labels to ((batch_size*(max_word_length-1)) x vocab_size)\n",
        "    # omitting the first character since, this is not getting predicted by the model\n",
        "    target = padded_onehot[:, 1:, :].reshape(-1, vocab_size)\n",
        "\n",
        "    return output, target\n",
        "################################################################################"
      ],
      "metadata": {
        "id": "QnXUEOzhx-0x"
      },
      "execution_count": null,
      "outputs": []
    },
    {
      "cell_type": "code",
      "source": [
        "################################################################################\n",
        "###################### DO NOT MODIFY THIS CELL #################################\n",
        "################################################################################\n",
        "# We will create a custom dataset for training our RNN in part 2.2, data will be a tuple of\n",
        "# one-hot matrix for each label (batch_size x 10) and corresponding one-hot matrix of words (batch_size x max_word_length x vocab_size)\n",
        "class RnnTrainingDataset(Dataset):\n",
        "    \"\"\"Dataset to get a tuple of one-hot matrix for each label (batch_size x 10)\n",
        "       and corresponding one-hot matrix of words (batch_size x max_word_length - 1 x vocab_size)\"\"\"\n",
        "\n",
        "    def __init__(self):\n",
        "        \"\"\"\n",
        "        Arguments:\n",
        "        \"\"\"\n",
        "        self.X = label_to_onehot(torch.tensor([x for x in range(10)]))\n",
        "        _, self.Y = batch_of_labels_to_onehot_matrix(torch.tensor([x for x in range(10)]))\n",
        "\n",
        "\n",
        "    def __len__(self):\n",
        "        return 10 # There are only 10 words\n",
        "\n",
        "    def __getitem__(self, idx):\n",
        "        return (self.X[idx], self.Y[idx])\n",
        "\n",
        "rnn_dataset = RnnTrainingDataset()\n",
        "rnn_dataloader = torch.utils.data.DataLoader(rnn_dataset, batch_size=10, shuffle=True)\n",
        "rnn_testloader = torch.utils.data.DataLoader(rnn_dataset, batch_size=1, shuffle=True)\n",
        "################################################################################"
      ],
      "metadata": {
        "id": "memn3pIvIdaN"
      },
      "execution_count": null,
      "outputs": []
    },
    {
      "cell_type": "code",
      "source": [
        "# Function which does the training for number of epochs and model and type of model passed\n",
        "def train(num_epochs, optimiser, model, dataloader=train_loader, mode='ENCODER'):\n",
        "    model.to(device)\n",
        "    model.train()\n",
        "\n",
        "    # Select Loss ##############################################################\n",
        "    # TODO📝: criterion = loss function to classify into K classes\n",
        "    ############################################################################\n",
        "    criterion = nn.CrossEntropyLoss()\n",
        "    lr_list = []\n",
        "    for epoch in range(num_epochs):\n",
        "      for batch_idx, (data, target) in enumerate(dataloader):\n",
        "          data = data.to(device)\n",
        "          target = target.to(device)\n",
        "\n",
        "          if(mode == 'E2E'): # For 2.4 and 2.5 - CNN-RNN models\n",
        "            # Convert labels to one-hot tensors\n",
        "            _, padded_onehot = batch_of_labels_to_onehot_matrix(target) # Output size (batch_size x max_word_length x vocab_size)\n",
        "            padded_onehot = padded_onehot.to(device)\n",
        "\n",
        "\n",
        "            # Forward pass #####################################################\n",
        "            # TODO📝: output = forward pass of your model\n",
        "            ####################################################################\n",
        "            output = nn.CrossEntropyLoss()\n",
        "            shapeChecker(output, padded_onehot[:, 1:, :])\n",
        "\n",
        "            # Call trainUtility\n",
        "            output, target = trainUtility(batch_idx, None, output, target, padded_onehot)\n",
        "\n",
        "\n",
        "          elif(mode == 'ENCODER'): # For 2.1 - CNN classifier\n",
        "            # Forward pass #####################################################\n",
        "            # TODO📝: output = forward pass of your model\n",
        "            ####################################################################\n",
        "            output = model(data)\n",
        "\n",
        "\n",
        "          elif(mode == 'DECODER'): # For 2.2 - Overfitting RNN\n",
        "            # Convert labels to one-hot tensors\n",
        "            padded_onehot = target\n",
        "\n",
        "            # Forward pass #####################################################\n",
        "            # TODO📝: output = forward pass of your model, you will not pass the\n",
        "            #                  end token <e> to your model\n",
        "            ####################################################################\n",
        "            output = model(data, target)\n",
        "            shapeChecker(output, target[:, 1:, :])\n",
        "\n",
        "            # Call trainUtility\n",
        "            output, target = trainUtility(batch_idx, epoch, output, target, padded_onehot)\n",
        "\n",
        "\n",
        "          # Loss computation ###################################################\n",
        "          # TODO📝: loss = evaluate the criterion on the model output\n",
        "          ######################################################################\n",
        "          # Loss computation (common for all modes)\n",
        "          if mode == 'ENCODER':\n",
        "              loss = criterion(output, target)  # For classification tasks, target is the integer label\n",
        "          else:\n",
        "              loss = criterion(output, target.argmax(dim=-1))\n",
        "          # Zero grad ##########################################################\n",
        "          # TODO📝: zero grad the parameters\n",
        "          ######################################################################\n",
        "          optimiser.zero_grad()\n",
        "          # Compute gradients ##################################################\n",
        "          # TODO📝: back-propogate loss to calculate the grad weights\n",
        "          ######################################################################\n",
        "          loss.backward()\n",
        "          # Optimisation step ##################################################\n",
        "          # TODO📝: perform a single optimization step (weight update)\n",
        "          ######################################################################\n",
        "          optimiser.step()\n",
        "\n",
        "          if (batch_idx+1) % 100 == 0 or (mode == 'DECODER' and epoch%500 == 0):\n",
        "            print ('Epoch [{}/{}], Step [{}/{}], Loss: {:.4f}'\n",
        "                   .format(epoch+1, num_epochs, batch_idx+1, len(dataloader), loss.item()))"
      ],
      "metadata": {
        "id": "qGWgcXa2hyhK"
      },
      "execution_count": 38,
      "outputs": []
    },
    {
      "cell_type": "code",
      "source": [
        "################################################################################\n",
        "###################### DO NOT MODIFY THIS CELL #################################\n",
        "################################################################################\n",
        "def evaluate(model, dataloader=test_loader, mode='ENCODER'):\n",
        "    # Never forget to change model to eval mode using eval(), this freezes the model weights for updates\n",
        "    model.to(device)\n",
        "    model.eval()\n",
        "    test_loss = 0\n",
        "    correct = 0\n",
        "    for data, target in dataloader:\n",
        "        data = data.to(device)\n",
        "        target = target.to(device)\n",
        "        if(mode == 'ENCODER'):\n",
        "          # Predicted output\n",
        "          output = model(data)\n",
        "\n",
        "          # Calculate correct prediction count\n",
        "          pred = output.data.max(1, keepdim=True)[1] # get the index of the max log-probability\n",
        "          correct += pred.eq(target.data.view_as(pred)).cpu().sum()\n",
        "        elif(mode == 'DECODER'):\n",
        "          # Predicted output\n",
        "          output = torch.tensor(model.sample(data), device=device)\n",
        "\n",
        "          # True output\n",
        "          _, true = torch.max(target, dim=-1)\n",
        "          # Remove padding\n",
        "          true = torch.tensor(np.concatenate(([0],np.delete(true.cpu().numpy(),\n",
        "                                                            np.argwhere(true.cpu().numpy()==0)))), device=device)\n",
        "\n",
        "          # Calculate correct prediction count\n",
        "          correct += torch.sum(output == true)/output.shape[0]\n",
        "        elif(mode == 'MODULAR'):\n",
        "          # Predicted output\n",
        "          output = model.sample(data)\n",
        "\n",
        "          # True output\n",
        "          true = [labelDict[label.item()] for label in target]\n",
        "          true = torch.tensor([0] + [get_idx(c) for c in true[0]] + [1])\n",
        "          true = torch.full(output.shape, 20) if output.shape[0] != true.shape[0] else true\n",
        "\n",
        "          # Calculate correct prediction count\n",
        "          correct += torch.sum(output == true)/output.shape[0]\n",
        "        elif(mode == 'E2E'):\n",
        "          # Predicted output\n",
        "          output = torch.tensor(model.sample(data))\n",
        "\n",
        "          # True output\n",
        "          true = [labelDict[label.item()] for label in target]\n",
        "          true = torch.tensor([0] + [get_idx(c) for c in true[0]] + [1])\n",
        "          true = torch.full(output.shape, 20) if output.shape[0] != true.shape[0] else true\n",
        "\n",
        "          # Calculate correct prediction count\n",
        "          correct += torch.sum(output == true)/output.shape[0]\n",
        "\n",
        "    test_loss /= len(dataloader.dataset)\n",
        "    print('\\nTest set: Accuracy: {:.0f}/{} ({:.0f}%)\\n'.format(\n",
        "        correct, len(dataloader.dataset),\n",
        "        100 * correct / len(dataloader.dataset)))\n",
        "\n",
        "    return 100 * correct / len(dataloader.dataset)\n",
        "################################################################################"
      ],
      "metadata": {
        "id": "wFP1MB3Lhn2T"
      },
      "execution_count": 39,
      "outputs": []
    },
    {
      "cell_type": "markdown",
      "source": [
        "# 2 Model creation and training\n",
        "## 2.1 Convolutional net architecture\n",
        "---\n",
        "Follow the following steps to train a CNN classifier and calculate accuracy for your model on the test set:\n",
        "1. Create a model exactly like the architecture given in the prog4 writeup.\n",
        "2. Create a SGD optimiser. You can read about optimisers [here](https://pytorch.org/docs/stable/optim.html).\n",
        "3. Go to previous section and fill out the `train()` procedure for `mode='ENCODER'`.\n",
        "\n",
        "This part expects you to achieve an accuracy of `95%+` on the validation set.\n",
        "\n"
      ],
      "metadata": {
        "id": "2c3ICvb23OMI"
      }
    },
    {
      "cell_type": "code",
      "source": [
        "# options\n",
        "epochs = 10         # number of epochs to train\n",
        "lr = 0.01           # learning rate\n",
        "\n",
        "\n",
        "# Convolutional net architecture ###############################################\n",
        "# TODO📝: cnnEncoder = cnn model - input: image(batch_size x 1 x img_sz x img_sz)\n",
        "#                                  output: (batch_size, 84)\n",
        "class CNNEncoder(nn.Module):\n",
        "    def __init__(self):\n",
        "        super(CNNEncoder, self).__init__()\n",
        "        # Define the layers as per the architecture in the writeup\n",
        "        self.conv1 = nn.Conv2d(1, 6, kernel_size=3, stride=1)  # Conv2d-1\n",
        "        self.pool = nn.MaxPool2d(kernel_size=2, stride=2)       # MaxPool2d-1\n",
        "        self.conv2 = nn.Conv2d(6, 16, kernel_size=3, stride=1)  # Conv2d-2\n",
        "        self.conv3 = nn.Conv2d(16, 120, kernel_size=3, stride=1)  # Conv2d-3\n",
        "        self.flatten = nn.Flatten()                             # Flatten the output\n",
        "        self.fc1 = nn.Linear(120 * 3 * 3, 84)                   # Linear layer to output 84 features\n",
        "\n",
        "    def forward(self, x):\n",
        "        x = self.pool(nn.f.relu(self.conv1(x)))  # Apply conv1 + ReLU + MaxPool\n",
        "        x = self.pool(nn.f.relu(self.conv2(x)))  # Apply conv2 + ReLU + MaxPool\n",
        "        x = nn.f.relu(self.conv3(x))             # Apply conv3 + ReLU (no pooling)\n",
        "        x = self.flatten(x)                      # Flatten the feature map\n",
        "        x = nn.f.relu(self.fc1(x))               # Fully connected layer with ReLU\n",
        "        return x  # Output of size (batch_size, 84)\n",
        "\n",
        "# TODO📝: linearClassifier = linear classifier - input: (batch_size, 84)\n",
        "#                                                output: (batch_size, 10)\n",
        "################################################################################\n",
        "class LinearClassifier(nn.Module):\n",
        "    def __init__(self, input_size=84, output_size=10):\n",
        "        super().__init__()\n",
        "        self.fc = nn.Linear(input_size, output_size)\n",
        "\n",
        "    def forward(self, x):\n",
        "          return self.fc(x)  # Output size will be (batch_size, 10)\n",
        "\n",
        "\n",
        "cnnEncoder = CNNEncoder()\n",
        "linearClassifier = LinearClassifier()\n",
        "cnnClassifier = nn.Sequential(cnnEncoder, linearClassifier)\n",
        "enc_optimiser = optim.SGD(cnnClassifier.parameters(), lr)\n",
        "# Creating Optimiser ###########################################################\n",
        "# TODO📝: enc_optimiser = create a SGD optimiser for the cnnClassifier\n",
        "# TODO📝: Fill out the train() procedure for mode='ENCODER' in the previous section\n",
        "################################################################################\n",
        "\n",
        "train(epochs, enc_optimiser, cnnClassifier, mode='ENCODER')\n",
        "acc = evaluate(cnnClassifier, test_loader, mode='ENCODER')\n",
        "\n",
        "assert(acc > 95)"
      ],
      "metadata": {
        "id": "QHT3Zskr3Nr-",
        "colab": {
          "base_uri": "https://localhost:8080/"
        },
        "outputId": "57d0b52b-40f1-4fc4-e61f-289aea9c5f8a",
        "collapsed": true
      },
      "execution_count": null,
      "outputs": [
        {
          "output_type": "stream",
          "name": "stdout",
          "text": [
            "Epoch [1/10], Step [100/469], Loss: 2.2772\n",
            "Epoch [1/10], Step [200/469], Loss: 2.2308\n",
            "Epoch [1/10], Step [300/469], Loss: 1.8501\n",
            "Epoch [1/10], Step [400/469], Loss: 0.7665\n",
            "Epoch [2/10], Step [100/469], Loss: 0.3490\n",
            "Epoch [2/10], Step [200/469], Loss: 0.3872\n",
            "Epoch [2/10], Step [300/469], Loss: 0.3892\n",
            "Epoch [2/10], Step [400/469], Loss: 0.2999\n",
            "Epoch [3/10], Step [100/469], Loss: 0.2523\n",
            "Epoch [3/10], Step [200/469], Loss: 0.2296\n",
            "Epoch [3/10], Step [300/469], Loss: 0.2299\n",
            "Epoch [3/10], Step [400/469], Loss: 0.1602\n",
            "Epoch [4/10], Step [100/469], Loss: 0.1921\n",
            "Epoch [4/10], Step [200/469], Loss: 0.0755\n",
            "Epoch [4/10], Step [300/469], Loss: 0.2036\n",
            "Epoch [4/10], Step [400/469], Loss: 0.1724\n",
            "Epoch [5/10], Step [100/469], Loss: 0.0746\n",
            "Epoch [5/10], Step [200/469], Loss: 0.1554\n",
            "Epoch [5/10], Step [300/469], Loss: 0.1758\n",
            "Epoch [5/10], Step [400/469], Loss: 0.1481\n",
            "Epoch [6/10], Step [100/469], Loss: 0.1211\n",
            "Epoch [6/10], Step [200/469], Loss: 0.1247\n",
            "Epoch [6/10], Step [300/469], Loss: 0.1532\n",
            "Epoch [6/10], Step [400/469], Loss: 0.1011\n",
            "Epoch [7/10], Step [100/469], Loss: 0.1309\n",
            "Epoch [7/10], Step [200/469], Loss: 0.0547\n",
            "Epoch [7/10], Step [300/469], Loss: 0.0619\n",
            "Epoch [7/10], Step [400/469], Loss: 0.0844\n",
            "Epoch [8/10], Step [100/469], Loss: 0.0554\n",
            "Epoch [8/10], Step [200/469], Loss: 0.0813\n",
            "Epoch [8/10], Step [300/469], Loss: 0.0841\n",
            "Epoch [8/10], Step [400/469], Loss: 0.0497\n",
            "Epoch [9/10], Step [100/469], Loss: 0.0487\n",
            "Epoch [9/10], Step [200/469], Loss: 0.0397\n",
            "Epoch [9/10], Step [300/469], Loss: 0.0763\n",
            "Epoch [9/10], Step [400/469], Loss: 0.1328\n",
            "Epoch [10/10], Step [100/469], Loss: 0.0576\n",
            "Epoch [10/10], Step [200/469], Loss: 0.0816\n",
            "Epoch [10/10], Step [300/469], Loss: 0.0404\n",
            "Epoch [10/10], Step [400/469], Loss: 0.0351\n",
            "\n",
            "Test set: Accuracy: 9803/10000 (98%)\n",
            "\n"
          ]
        }
      ]
    },
    {
      "cell_type": "markdown",
      "source": [
        "## 2.2 Recurrent net overfitting\n",
        "---\n",
        "We can define models in two ways, either using `nn.Sequential()` to create a network where PyTorch takes care of `forward()`, or we can create a `class` inhereted from `nn.Module` and define our custom `forward()` and other utility functions. For this section, we will use the latter approach.\n",
        "Follow the next steps to train your RNN model and calculate the accuracy:\n",
        "1. Create a model by completing the class methods where asked.\n",
        "2. Create an optimiser.\n",
        "3. Go to previous section and fill out the `train()` procedure for `mode='DECODER'`.\n",
        "\n",
        "This part expects you to achieve an accuracy of `10/10` on the training set, that is we completely memorise the training data points.\n",
        "\n",
        "\n",
        "You can use the following documentations for reference on [`nn.Module`](https://pytorch.org/docs/stable/generated/torch.nn.Module.html) and [`nn.LSTM`](https://pytorch.org/docs/stable/generated/torch.nn.LSTM.html).\n"
      ],
      "metadata": {
        "id": "ftoGfiIuFMh_"
      }
    },
    {
      "cell_type": "code",
      "source": [
        "# 1. RNN model for learning sequence of letters\n",
        "class DecoderRNN(nn.Module):\n",
        "    def __init__(self, input_size, hidden_size, vocab_size, num_layers):\n",
        "\n",
        "        super().__init__()\n",
        "        input_size = embed_size\n",
        "        # Create LSTM and Linear objects #######################################\n",
        "        # TODO📝: self.lstm = LSTM object using input_size, hidden_size and num_layers,\n",
        "        #                     set the batch_first option to True\n",
        "        # TODO📝: self.fc = Linear layer to convert to get final output with size\n",
        "        #                   (batch_size x vocab_size)\n",
        "        ########################################################################\n",
        "        self.lstm = nn.LSTM(input_size, hidden_size, num_layers, batch_first=True)\n",
        "        self.fc = nn.Linear(hidden_size, vocab_size)\n",
        "\n",
        "    def forward(self, input, target):\n",
        "        # input is batch of one-hot labels of shape (batch_size x 10)\n",
        "        # target is one-hot of sequence of tokens without the last token and is of\n",
        "        # shape (batch_size x max_word_length-1 x vocab_size)\n",
        "        # Setup ################################################################\n",
        "        # TODO📝: Using target assign the three variables with the corresponding values of\n",
        "        #         batch_size, max_word_length, and vocab_size\n",
        "        ########################################################################\n",
        "\n",
        "\n",
        "        # DEBUGGING\n",
        "        print(\"Out:\", input.shape)  # Debug: Print shape of out\n",
        "        print(\"Target:\", target.shape)  # Debug: Print shape of target\n",
        "\n",
        "\n",
        "        batch_size = target.size(0)\n",
        "        max_word_length = target.size(1)\n",
        "        vocab_size = target.size(2)\n",
        "        # DEBUGGING\n",
        "        print(f\"Input shape: {input.shape}\")   # Debugging shapes\n",
        "        print(f\"Target shape: {target.shape}\")  # Debugging shapes\n",
        "\n",
        "        # Feed-forward behaviour of the model ##################################\n",
        "        # In order to pass two inputs to our LSTM object, we need to concat input and target,\n",
        "        # we will need to change (batch_size x 10) input matrix -> (batch_size x max_word_length-1 x 10)\n",
        "        # TODO📝: replicated_input = repeat the one-hot input (max_word_length-1)\n",
        "        #         times on 2nd dimension -> (batch_size x max_word_length-1 x 10)\n",
        "        # TODO📝: rnn_input = concat the target with the replicated_input ->\n",
        "        #         (batch_size x max_word_length-1 x vocab_size+10)\n",
        "        ########################################################################\n",
        "\n",
        "        replicated_input = input.unsqueeze(1).repeat(1, max_word_length - 1, 1)\n",
        "        # Concatenate input and target to create rnn_input\n",
        "        rnn_input = torch.cat((replicated_input, target[:, :-1, :]), dim=-1)\n",
        "        print(\"Shape of replicated_input:\", replicated_input.shape)  # Debug: Print shape of out\n",
        "        print(\"Shape of rnn_input:\", rnn_input.shape)  # Debug: Print shape of target\n",
        "\n",
        "        shapeChecker(rnn_input, torch.zeros((batch_size, max_word_length-1, vocab_size+10)))\n",
        "\n",
        "        # TODO📝: out = write the feed-forward behaviour of the network\n",
        "        ########################################################################\n",
        "        out, _ = self.lstm(rnn_input)\n",
        "        out = self.fc(out)\n",
        "\n",
        "        # DEBUGGING\n",
        "        print(\"Shape of out:\", out.shape)  # Debug: Print shape of out\n",
        "        print(\"Shape of target:\", target.shape)  # Debug: Print shape of target\n",
        "\n",
        "        shapeChecker(out, target)\n",
        "        return out\n",
        "\n",
        "    # Utility function to create next input_rnn using the current token and one-hot label(input)\n",
        "    def create_concatenated_rnn_input(self, token_idx, input_digit):\n",
        "        # input is single one-hot label of shape (1 x 10)\n",
        "        # token_idx is a token index\n",
        "        token_one_hot = torch.zeros(1, 1, vocab_size).to(input_digit.device)\n",
        "        token_one_hot[0, 0, token_idx] = 1\n",
        "        rnn_input = torch.cat((input_digit.unsqueeze(0).unsqueeze(0), token_one_hot), dim=-1)\n",
        "        # Create rnn_input of (1 x 1 x vocab_size+10) ##########################\n",
        "        # TODO📝: rnn_input = matrix of (1 x 1 x vocab_size+10), which is the concatenation\n",
        "        #         of the input and the one-hot vector corresponding to the token idx\n",
        "        ########################################################################\n",
        "        shapeChecker(torch.zeros((1, 1, vocab_size+10)), rnn_input)\n",
        "        return rnn_input\n",
        "\n",
        "    # This function samples next token given the <b> token until the <e> token\n",
        "    def sample(self, input):\n",
        "        # input is single one-hot label of shape (1 x 10)\n",
        "        output = [get_idx('<b>')] # Output is sequence of token indices, and here we intialise with <b>\n",
        "        rnn_input = self.create_concatenated_rnn_input(get_idx('<b>'), input) # create first input\n",
        "        loopRun = 0\n",
        "\n",
        "        while True and loopRun < 50:  # Breaking condition : predicted idx == <e>\n",
        "            # the loopRun < 50 condition prevent infinite looping\n",
        "            out, _ = self.lstm(rnn_input)\n",
        "            out = self.fc(out)\n",
        "            out = out.squeeze(0)\n",
        "            # Feed-forward behaviour ###########################################\n",
        "            # TODO📝: out = write the feed-forward behaviour\n",
        "            # Here, since we are working with single token at a time,\n",
        "            # you need to convert out: (1 x 1 x vocab_size) -> (1 x vocab_size)\n",
        "            ####################################################################\n",
        "            shapeChecker(out, torch.zeros((1, vocab_size)))\n",
        "\n",
        "            _, pred_idx = torch.max(out, dim=-1)\n",
        "\n",
        "            output.append(pred_idx.cpu().numpy()[0].item())\n",
        "            # Breaking condition ###############################################\n",
        "            # TODO📝: add breaking condition on predicted token == '<e>'\n",
        "            ####################################################################\n",
        "            if pred_idx == get_idx('<e>'):\n",
        "                break\n",
        "            # Prepare next rnn input ###########################################\n",
        "            # TODO📝: rnn_input = overwrite the rnn_input using the current\n",
        "            #         predicted token for the next iteration\n",
        "            ####################################################################\n",
        "            rnn_input = self.create_concatenated_rnn_input(pred_idx, input)\n",
        "            loopRun+=1\n",
        "\n",
        "        return output"
      ],
      "metadata": {
        "id": "5Y6hyYp7FG7B"
      },
      "execution_count": 44,
      "outputs": []
    },
    {
      "cell_type": "code",
      "source": [
        "# 2. Create an optimiser\n",
        "# options\n",
        "epochs = 5000         # number of epochs to train\n",
        "lr = 0.1             # learning rate - TODO📝: set an appropriate lr\n",
        "hidden_size = 16    # hidden size for rnn - TODO📝: set from 8, 16, 32, 64 - use the smallest one for which your model works\n",
        "embed_size = 10       # input is onehot labels\n",
        "num_layer = 1         # layers of rnn\n",
        "vocab_size = 17\n",
        "\n",
        "rnnModel = DecoderRNN(embed_size, hidden_size, vocab_size, num_layer).to(device)\n",
        "dec_optimiser = optim.SGD(rnnModel.parameters(), lr)\n",
        "# Recurrent net overfitting ####################################################\n",
        "# TODO📝: rnnModel = DecoderRNN() model - input: one-hot label output: one-hot matrix of words\n",
        "# TODO📝: dec_optimiser = create a SGD optimiser object\n",
        "################################################################################\n",
        "train(epochs, dec_optimiser, rnnModel, mode='DECODER', dataloader=rnn_dataloader)\n",
        "acc = evaluate(rnnModel, rnn_testloader, mode='DECODER')\n",
        "\n",
        "assert(acc == 100)"
      ],
      "metadata": {
        "id": "V8psC0whkaKa",
        "colab": {
          "base_uri": "https://localhost:8080/",
          "height": 478
        },
        "outputId": "101a952a-a7dd-467d-af69-a44c5bf8ea1f"
      },
      "execution_count": 45,
      "outputs": [
        {
          "output_type": "stream",
          "name": "stdout",
          "text": [
            "Out: torch.Size([10, 10])\n",
            "Target: torch.Size([10, 7, 17])\n",
            "Input shape: torch.Size([10, 10])\n",
            "Target shape: torch.Size([10, 7, 17])\n",
            "Shape of replicated_input: torch.Size([10, 6, 10])\n",
            "Shape of rnn_input: torch.Size([10, 6, 27])\n"
          ]
        },
        {
          "output_type": "error",
          "ename": "RuntimeError",
          "evalue": "input.size(-1) must be equal to input_size. Expected 10, got 27",
          "traceback": [
            "\u001b[0;31m---------------------------------------------------------------------------\u001b[0m",
            "\u001b[0;31mRuntimeError\u001b[0m                              Traceback (most recent call last)",
            "\u001b[0;32m<ipython-input-45-e7d114e7c447>\u001b[0m in \u001b[0;36m<cell line: 16>\u001b[0;34m()\u001b[0m\n\u001b[1;32m     14\u001b[0m \u001b[0;31m# TODO📝: dec_optimiser = create a SGD optimiser object\u001b[0m\u001b[0;34m\u001b[0m\u001b[0;34m\u001b[0m\u001b[0m\n\u001b[1;32m     15\u001b[0m \u001b[0;31m################################################################################\u001b[0m\u001b[0;34m\u001b[0m\u001b[0;34m\u001b[0m\u001b[0m\n\u001b[0;32m---> 16\u001b[0;31m \u001b[0mtrain\u001b[0m\u001b[0;34m(\u001b[0m\u001b[0mepochs\u001b[0m\u001b[0;34m,\u001b[0m \u001b[0mdec_optimiser\u001b[0m\u001b[0;34m,\u001b[0m \u001b[0mrnnModel\u001b[0m\u001b[0;34m,\u001b[0m \u001b[0mmode\u001b[0m\u001b[0;34m=\u001b[0m\u001b[0;34m'DECODER'\u001b[0m\u001b[0;34m,\u001b[0m \u001b[0mdataloader\u001b[0m\u001b[0;34m=\u001b[0m\u001b[0mrnn_dataloader\u001b[0m\u001b[0;34m)\u001b[0m\u001b[0;34m\u001b[0m\u001b[0;34m\u001b[0m\u001b[0m\n\u001b[0m\u001b[1;32m     17\u001b[0m \u001b[0macc\u001b[0m \u001b[0;34m=\u001b[0m \u001b[0mevaluate\u001b[0m\u001b[0;34m(\u001b[0m\u001b[0mrnnModel\u001b[0m\u001b[0;34m,\u001b[0m \u001b[0mrnn_testloader\u001b[0m\u001b[0;34m,\u001b[0m \u001b[0mmode\u001b[0m\u001b[0;34m=\u001b[0m\u001b[0;34m'DECODER'\u001b[0m\u001b[0;34m)\u001b[0m\u001b[0;34m\u001b[0m\u001b[0;34m\u001b[0m\u001b[0m\n\u001b[1;32m     18\u001b[0m \u001b[0;34m\u001b[0m\u001b[0m\n",
            "\u001b[0;32m<ipython-input-38-f085bcfb23a1>\u001b[0m in \u001b[0;36mtrain\u001b[0;34m(num_epochs, optimiser, model, dataloader, mode)\u001b[0m\n\u001b[1;32m     45\u001b[0m             \u001b[0;31m#                  end token <e> to your model\u001b[0m\u001b[0;34m\u001b[0m\u001b[0;34m\u001b[0m\u001b[0m\n\u001b[1;32m     46\u001b[0m             \u001b[0;31m####################################################################\u001b[0m\u001b[0;34m\u001b[0m\u001b[0;34m\u001b[0m\u001b[0m\n\u001b[0;32m---> 47\u001b[0;31m             \u001b[0moutput\u001b[0m \u001b[0;34m=\u001b[0m \u001b[0mmodel\u001b[0m\u001b[0;34m(\u001b[0m\u001b[0mdata\u001b[0m\u001b[0;34m,\u001b[0m \u001b[0mtarget\u001b[0m\u001b[0;34m)\u001b[0m\u001b[0;34m\u001b[0m\u001b[0;34m\u001b[0m\u001b[0m\n\u001b[0m\u001b[1;32m     48\u001b[0m             \u001b[0mshapeChecker\u001b[0m\u001b[0;34m(\u001b[0m\u001b[0moutput\u001b[0m\u001b[0;34m,\u001b[0m \u001b[0mtarget\u001b[0m\u001b[0;34m[\u001b[0m\u001b[0;34m:\u001b[0m\u001b[0;34m,\u001b[0m \u001b[0;36m1\u001b[0m\u001b[0;34m:\u001b[0m\u001b[0;34m,\u001b[0m \u001b[0;34m:\u001b[0m\u001b[0;34m]\u001b[0m\u001b[0;34m)\u001b[0m\u001b[0;34m\u001b[0m\u001b[0;34m\u001b[0m\u001b[0m\n\u001b[1;32m     49\u001b[0m \u001b[0;34m\u001b[0m\u001b[0m\n",
            "\u001b[0;32m/usr/local/lib/python3.10/dist-packages/torch/nn/modules/module.py\u001b[0m in \u001b[0;36m_wrapped_call_impl\u001b[0;34m(self, *args, **kwargs)\u001b[0m\n\u001b[1;32m   1551\u001b[0m             \u001b[0;32mreturn\u001b[0m \u001b[0mself\u001b[0m\u001b[0;34m.\u001b[0m\u001b[0m_compiled_call_impl\u001b[0m\u001b[0;34m(\u001b[0m\u001b[0;34m*\u001b[0m\u001b[0margs\u001b[0m\u001b[0;34m,\u001b[0m \u001b[0;34m**\u001b[0m\u001b[0mkwargs\u001b[0m\u001b[0;34m)\u001b[0m  \u001b[0;31m# type: ignore[misc]\u001b[0m\u001b[0;34m\u001b[0m\u001b[0;34m\u001b[0m\u001b[0m\n\u001b[1;32m   1552\u001b[0m         \u001b[0;32melse\u001b[0m\u001b[0;34m:\u001b[0m\u001b[0;34m\u001b[0m\u001b[0;34m\u001b[0m\u001b[0m\n\u001b[0;32m-> 1553\u001b[0;31m             \u001b[0;32mreturn\u001b[0m \u001b[0mself\u001b[0m\u001b[0;34m.\u001b[0m\u001b[0m_call_impl\u001b[0m\u001b[0;34m(\u001b[0m\u001b[0;34m*\u001b[0m\u001b[0margs\u001b[0m\u001b[0;34m,\u001b[0m \u001b[0;34m**\u001b[0m\u001b[0mkwargs\u001b[0m\u001b[0;34m)\u001b[0m\u001b[0;34m\u001b[0m\u001b[0;34m\u001b[0m\u001b[0m\n\u001b[0m\u001b[1;32m   1554\u001b[0m \u001b[0;34m\u001b[0m\u001b[0m\n\u001b[1;32m   1555\u001b[0m     \u001b[0;32mdef\u001b[0m \u001b[0m_call_impl\u001b[0m\u001b[0;34m(\u001b[0m\u001b[0mself\u001b[0m\u001b[0;34m,\u001b[0m \u001b[0;34m*\u001b[0m\u001b[0margs\u001b[0m\u001b[0;34m,\u001b[0m \u001b[0;34m**\u001b[0m\u001b[0mkwargs\u001b[0m\u001b[0;34m)\u001b[0m\u001b[0;34m:\u001b[0m\u001b[0;34m\u001b[0m\u001b[0;34m\u001b[0m\u001b[0m\n",
            "\u001b[0;32m/usr/local/lib/python3.10/dist-packages/torch/nn/modules/module.py\u001b[0m in \u001b[0;36m_call_impl\u001b[0;34m(self, *args, **kwargs)\u001b[0m\n\u001b[1;32m   1560\u001b[0m                 \u001b[0;32mor\u001b[0m \u001b[0m_global_backward_pre_hooks\u001b[0m \u001b[0;32mor\u001b[0m \u001b[0m_global_backward_hooks\u001b[0m\u001b[0;34m\u001b[0m\u001b[0;34m\u001b[0m\u001b[0m\n\u001b[1;32m   1561\u001b[0m                 or _global_forward_hooks or _global_forward_pre_hooks):\n\u001b[0;32m-> 1562\u001b[0;31m             \u001b[0;32mreturn\u001b[0m \u001b[0mforward_call\u001b[0m\u001b[0;34m(\u001b[0m\u001b[0;34m*\u001b[0m\u001b[0margs\u001b[0m\u001b[0;34m,\u001b[0m \u001b[0;34m**\u001b[0m\u001b[0mkwargs\u001b[0m\u001b[0;34m)\u001b[0m\u001b[0;34m\u001b[0m\u001b[0;34m\u001b[0m\u001b[0m\n\u001b[0m\u001b[1;32m   1563\u001b[0m \u001b[0;34m\u001b[0m\u001b[0m\n\u001b[1;32m   1564\u001b[0m         \u001b[0;32mtry\u001b[0m\u001b[0;34m:\u001b[0m\u001b[0;34m\u001b[0m\u001b[0;34m\u001b[0m\u001b[0m\n",
            "\u001b[0;32m<ipython-input-44-e96369fe4f9c>\u001b[0m in \u001b[0;36mforward\u001b[0;34m(self, input, target)\u001b[0m\n\u001b[1;32m     53\u001b[0m         \u001b[0;31m# TODO📝: out = write the feed-forward behaviour of the network\u001b[0m\u001b[0;34m\u001b[0m\u001b[0;34m\u001b[0m\u001b[0m\n\u001b[1;32m     54\u001b[0m         \u001b[0;31m########################################################################\u001b[0m\u001b[0;34m\u001b[0m\u001b[0;34m\u001b[0m\u001b[0m\n\u001b[0;32m---> 55\u001b[0;31m         \u001b[0mout\u001b[0m\u001b[0;34m,\u001b[0m \u001b[0m_\u001b[0m \u001b[0;34m=\u001b[0m \u001b[0mself\u001b[0m\u001b[0;34m.\u001b[0m\u001b[0mlstm\u001b[0m\u001b[0;34m(\u001b[0m\u001b[0mrnn_input\u001b[0m\u001b[0;34m)\u001b[0m\u001b[0;34m\u001b[0m\u001b[0;34m\u001b[0m\u001b[0m\n\u001b[0m\u001b[1;32m     56\u001b[0m         \u001b[0mout\u001b[0m \u001b[0;34m=\u001b[0m \u001b[0mself\u001b[0m\u001b[0;34m.\u001b[0m\u001b[0mfc\u001b[0m\u001b[0;34m(\u001b[0m\u001b[0mout\u001b[0m\u001b[0;34m)\u001b[0m\u001b[0;34m\u001b[0m\u001b[0;34m\u001b[0m\u001b[0m\n\u001b[1;32m     57\u001b[0m \u001b[0;34m\u001b[0m\u001b[0m\n",
            "\u001b[0;32m/usr/local/lib/python3.10/dist-packages/torch/nn/modules/module.py\u001b[0m in \u001b[0;36m_wrapped_call_impl\u001b[0;34m(self, *args, **kwargs)\u001b[0m\n\u001b[1;32m   1551\u001b[0m             \u001b[0;32mreturn\u001b[0m \u001b[0mself\u001b[0m\u001b[0;34m.\u001b[0m\u001b[0m_compiled_call_impl\u001b[0m\u001b[0;34m(\u001b[0m\u001b[0;34m*\u001b[0m\u001b[0margs\u001b[0m\u001b[0;34m,\u001b[0m \u001b[0;34m**\u001b[0m\u001b[0mkwargs\u001b[0m\u001b[0;34m)\u001b[0m  \u001b[0;31m# type: ignore[misc]\u001b[0m\u001b[0;34m\u001b[0m\u001b[0;34m\u001b[0m\u001b[0m\n\u001b[1;32m   1552\u001b[0m         \u001b[0;32melse\u001b[0m\u001b[0;34m:\u001b[0m\u001b[0;34m\u001b[0m\u001b[0;34m\u001b[0m\u001b[0m\n\u001b[0;32m-> 1553\u001b[0;31m             \u001b[0;32mreturn\u001b[0m \u001b[0mself\u001b[0m\u001b[0;34m.\u001b[0m\u001b[0m_call_impl\u001b[0m\u001b[0;34m(\u001b[0m\u001b[0;34m*\u001b[0m\u001b[0margs\u001b[0m\u001b[0;34m,\u001b[0m \u001b[0;34m**\u001b[0m\u001b[0mkwargs\u001b[0m\u001b[0;34m)\u001b[0m\u001b[0;34m\u001b[0m\u001b[0;34m\u001b[0m\u001b[0m\n\u001b[0m\u001b[1;32m   1554\u001b[0m \u001b[0;34m\u001b[0m\u001b[0m\n\u001b[1;32m   1555\u001b[0m     \u001b[0;32mdef\u001b[0m \u001b[0m_call_impl\u001b[0m\u001b[0;34m(\u001b[0m\u001b[0mself\u001b[0m\u001b[0;34m,\u001b[0m \u001b[0;34m*\u001b[0m\u001b[0margs\u001b[0m\u001b[0;34m,\u001b[0m \u001b[0;34m**\u001b[0m\u001b[0mkwargs\u001b[0m\u001b[0;34m)\u001b[0m\u001b[0;34m:\u001b[0m\u001b[0;34m\u001b[0m\u001b[0;34m\u001b[0m\u001b[0m\n",
            "\u001b[0;32m/usr/local/lib/python3.10/dist-packages/torch/nn/modules/module.py\u001b[0m in \u001b[0;36m_call_impl\u001b[0;34m(self, *args, **kwargs)\u001b[0m\n\u001b[1;32m   1560\u001b[0m                 \u001b[0;32mor\u001b[0m \u001b[0m_global_backward_pre_hooks\u001b[0m \u001b[0;32mor\u001b[0m \u001b[0m_global_backward_hooks\u001b[0m\u001b[0;34m\u001b[0m\u001b[0;34m\u001b[0m\u001b[0m\n\u001b[1;32m   1561\u001b[0m                 or _global_forward_hooks or _global_forward_pre_hooks):\n\u001b[0;32m-> 1562\u001b[0;31m             \u001b[0;32mreturn\u001b[0m \u001b[0mforward_call\u001b[0m\u001b[0;34m(\u001b[0m\u001b[0;34m*\u001b[0m\u001b[0margs\u001b[0m\u001b[0;34m,\u001b[0m \u001b[0;34m**\u001b[0m\u001b[0mkwargs\u001b[0m\u001b[0;34m)\u001b[0m\u001b[0;34m\u001b[0m\u001b[0;34m\u001b[0m\u001b[0m\n\u001b[0m\u001b[1;32m   1563\u001b[0m \u001b[0;34m\u001b[0m\u001b[0m\n\u001b[1;32m   1564\u001b[0m         \u001b[0;32mtry\u001b[0m\u001b[0;34m:\u001b[0m\u001b[0;34m\u001b[0m\u001b[0;34m\u001b[0m\u001b[0m\n",
            "\u001b[0;32m/usr/local/lib/python3.10/dist-packages/torch/nn/modules/rnn.py\u001b[0m in \u001b[0;36mforward\u001b[0;34m(self, input, hx)\u001b[0m\n\u001b[1;32m    896\u001b[0m                                       dtype=input.dtype, device=input.device)\n\u001b[1;32m    897\u001b[0m                 \u001b[0mhx\u001b[0m \u001b[0;34m=\u001b[0m \u001b[0;34m(\u001b[0m\u001b[0mh_zeros\u001b[0m\u001b[0;34m,\u001b[0m \u001b[0mc_zeros\u001b[0m\u001b[0;34m)\u001b[0m\u001b[0;34m\u001b[0m\u001b[0;34m\u001b[0m\u001b[0m\n\u001b[0;32m--> 898\u001b[0;31m                 \u001b[0mself\u001b[0m\u001b[0;34m.\u001b[0m\u001b[0mcheck_forward_args\u001b[0m\u001b[0;34m(\u001b[0m\u001b[0minput\u001b[0m\u001b[0;34m,\u001b[0m \u001b[0mhx\u001b[0m\u001b[0;34m,\u001b[0m \u001b[0mbatch_sizes\u001b[0m\u001b[0;34m)\u001b[0m\u001b[0;34m\u001b[0m\u001b[0;34m\u001b[0m\u001b[0m\n\u001b[0m\u001b[1;32m    899\u001b[0m             \u001b[0;32melse\u001b[0m\u001b[0;34m:\u001b[0m\u001b[0;34m\u001b[0m\u001b[0;34m\u001b[0m\u001b[0m\n\u001b[1;32m    900\u001b[0m                 \u001b[0;32mif\u001b[0m \u001b[0mis_batched\u001b[0m\u001b[0;34m:\u001b[0m\u001b[0;34m\u001b[0m\u001b[0;34m\u001b[0m\u001b[0m\n",
            "\u001b[0;32m/usr/local/lib/python3.10/dist-packages/torch/nn/modules/rnn.py\u001b[0m in \u001b[0;36mcheck_forward_args\u001b[0;34m(self, input, hidden, batch_sizes)\u001b[0m\n\u001b[1;32m    825\u001b[0m                            \u001b[0mbatch_sizes\u001b[0m\u001b[0;34m:\u001b[0m \u001b[0mOptional\u001b[0m\u001b[0;34m[\u001b[0m\u001b[0mTensor\u001b[0m\u001b[0;34m]\u001b[0m\u001b[0;34m,\u001b[0m\u001b[0;34m\u001b[0m\u001b[0;34m\u001b[0m\u001b[0m\n\u001b[1;32m    826\u001b[0m                            ):\n\u001b[0;32m--> 827\u001b[0;31m         \u001b[0mself\u001b[0m\u001b[0;34m.\u001b[0m\u001b[0mcheck_input\u001b[0m\u001b[0;34m(\u001b[0m\u001b[0minput\u001b[0m\u001b[0;34m,\u001b[0m \u001b[0mbatch_sizes\u001b[0m\u001b[0;34m)\u001b[0m\u001b[0;34m\u001b[0m\u001b[0;34m\u001b[0m\u001b[0m\n\u001b[0m\u001b[1;32m    828\u001b[0m         self.check_hidden_size(hidden[0], self.get_expected_hidden_size(input, batch_sizes),\n\u001b[1;32m    829\u001b[0m                                'Expected hidden[0] size {}, got {}')\n",
            "\u001b[0;32m/usr/local/lib/python3.10/dist-packages/torch/nn/modules/rnn.py\u001b[0m in \u001b[0;36mcheck_input\u001b[0;34m(self, input, batch_sizes)\u001b[0m\n\u001b[1;32m    244\u001b[0m                 f'input must have {expected_input_dim} dimensions, got {input.dim()}')\n\u001b[1;32m    245\u001b[0m         \u001b[0;32mif\u001b[0m \u001b[0mself\u001b[0m\u001b[0;34m.\u001b[0m\u001b[0minput_size\u001b[0m \u001b[0;34m!=\u001b[0m \u001b[0minput\u001b[0m\u001b[0;34m.\u001b[0m\u001b[0msize\u001b[0m\u001b[0;34m(\u001b[0m\u001b[0;34m-\u001b[0m\u001b[0;36m1\u001b[0m\u001b[0;34m)\u001b[0m\u001b[0;34m:\u001b[0m\u001b[0;34m\u001b[0m\u001b[0;34m\u001b[0m\u001b[0m\n\u001b[0;32m--> 246\u001b[0;31m             raise RuntimeError(\n\u001b[0m\u001b[1;32m    247\u001b[0m                 f'input.size(-1) must be equal to input_size. Expected {self.input_size}, got {input.size(-1)}')\n\u001b[1;32m    248\u001b[0m \u001b[0;34m\u001b[0m\u001b[0m\n",
            "\u001b[0;31mRuntimeError\u001b[0m: input.size(-1) must be equal to input_size. Expected 10, got 27"
          ]
        }
      ]
    },
    {
      "cell_type": "markdown",
      "source": [
        "## 2.3 Modular approach\n",
        "---\n",
        "In this section, we will combine the previously trained CNN and RNN to convert an input image to a sequence of tokens.\n",
        "Here, since both models are pre-trained we just evaluate the performance of this combined model.\n",
        "\n",
        "Create a class `CombinationModel`: with a `sample()` method which takes an image as input and outputs token indices for each predicted letter of size `(batch_size x word_length)`. You can call the sample method of `DecoderRNN` for this purpose."
      ],
      "metadata": {
        "id": "nmSqHzirl2Ny"
      }
    },
    {
      "cell_type": "code",
      "source": [
        "class CombinationModel(nn.Module):\n",
        "  pass\n",
        "\n",
        "combinationModel = CombinationModel(cnnClassifier, rnnModel)\n",
        "# Modular approach #############################################################\n",
        "# TODO📝: create a class as mentioned before\n",
        "# TODO📝: combinationModel = instantiate your created class\n",
        "################################################################################\n",
        "acc = evaluate(combinationModel, test_loader, mode='MODULAR')\n",
        "\n",
        "assert(acc > 95)"
      ],
      "metadata": {
        "id": "JZEykWBJoXdc"
      },
      "execution_count": null,
      "outputs": []
    },
    {
      "cell_type": "markdown",
      "source": [
        "## 2.4 Transfer learning\n",
        "---\n",
        "\n",
        "In this section, we will use the `cnnEncoder` that we trained in section 2.1 to get the image embeddings which we will use instead of the one-hot label we used in section 2.2. Complete the following methods using section 2.2 as reference:\n",
        "1. Create a `DecoderRNN2` model;\n",
        "2. Create a `DigitDecoder` model (you may want to look at the methods of `DecoderRNN` from section 2.2);\n",
        "3. Instantiate an object of `DigitDecoder`;\n",
        "4. Create a SGD optimiser for the `DecoderRNN2`."
      ],
      "metadata": {
        "id": "kVh746TQo97u"
      }
    },
    {
      "cell_type": "code",
      "source": [
        "# 1. RNN model for learning sequence of letters\n",
        "class DecoderRNN2(nn.Module):\n",
        "    def __init__(self, input_size, hidden_size, vocab_size, num_layers):\n",
        "        super().__init__()\n",
        "        # Initialisation of the class ##########################################\n",
        "        # TODO📝: create LSTM and linear layer\n",
        "        ########################################################################\n",
        "        pass\n",
        "\n",
        "    def forward(self, input):\n",
        "        # Concatenated vector of image embedding and one-hot of the whole\n",
        "        # sequence of tokens without the last one of size (batch_size x max_word_length-1 x vocab_size+embed_size)\n",
        "        # Feed-forward behaviour ###############################################\n",
        "        # TODO📝: write the feed-forward behaviour of the model\n",
        "        ########################################################################\n",
        "        pass\n",
        "\n",
        "    def single_forward(self, input, hidden):\n",
        "        # This function is called by DigitDecoder to output a single token given\n",
        "        # the previous token along with the image embedding and the corresponding hidden tensor\n",
        "\n",
        "        # Prediction behaviour #################################################\n",
        "        # TODO📝: do a forward pass of the model\n",
        "        # TODO📝: return output and new hidden\n",
        "        ########################################################################\n",
        "        pass"
      ],
      "metadata": {
        "id": "aNs_xKALtnEX"
      },
      "execution_count": null,
      "outputs": []
    },
    {
      "cell_type": "code",
      "source": [
        "# 2. Model to predict next words given the image\n",
        "class DigitDecoder(nn.Module):\n",
        "    def __init__(self, input_size, hidden_size, num_layers, num_classes):\n",
        "        super().__init__()\n",
        "        # Initialise the model #################################################\n",
        "        # TODO📝: self.encoder = use the cnnEncoder\n",
        "        # TODO📝: self.decoder = instantiation of DecoderRNN2\n",
        "        ########################################################################\n",
        "        pass\n",
        "\n",
        "    def forward(self, x, y):\n",
        "        # Feed-forward behaviour of the model ##################################\n",
        "        # TODO📝: try to emulate forward() from section 2.2\n",
        "        # Some extra work is needed: calculate image embedding using\n",
        "        # the self.encoder\n",
        "        ########################################################################\n",
        "        pass\n",
        "\n",
        "    def sample(self, x):\n",
        "        # Sampling the output string one token at a time #######################\n",
        "        # TODO📝: try to emulate sample() method from section 2.2\n",
        "        # Some extra work is needed: calculate image embedding using\n",
        "        # the self.encoder\n",
        "        ########################################################################\n",
        "        pass"
      ],
      "metadata": {
        "id": "dKnUTAFg_hix"
      },
      "execution_count": null,
      "outputs": []
    },
    {
      "cell_type": "code",
      "source": [
        "# 3. and 4. model instantiation and optimiser creation\n",
        "epochs = 10           # number of epochs to train\n",
        "lr = 0.1              # learning rate\n",
        "hidden_size = None    # hidden size for rnn - set from 8, 16, 32, 64 - use the smallest one for which your model works\n",
        "num_layer = 1         # layers of rnn\n",
        "embed_size = 84\n",
        "\n",
        "tranferLearningModel = None\n",
        "tra_optimiser = None\n",
        "# Transfer learning ############################################################\n",
        "# TODO📝: tranferLearningModel = create an object of DigitDecoder\n",
        "# TODO📝: tra_optimiser = create a SGD optimiser object using just the DecoderRNN2 parameters\n",
        "################################################################################\n",
        "train(epochs, tra_optimiser, tranferLearningModel, mode='E2E')\n",
        "acc = evaluate(tranferLearningModel, test_loader, mode='E2E')\n",
        "\n",
        "assert(acc > 95)"
      ],
      "metadata": {
        "id": "VLe3qH_-xlLS"
      },
      "execution_count": null,
      "outputs": []
    },
    {
      "cell_type": "markdown",
      "source": [
        "## 2.5 End-to-end training\n",
        "---\n",
        "Finally, we will remove all the restrictions and train the `DigitDecoder` on both CNN as well as `DecoderRNN2` parameters.\n",
        "\n",
        "Follow the same steps as sec 2.4.\n",
        "1. Create a new class `DigitDecoder2` similar to `DigitDecoder` except here instead of using the pre-trained `cnnEncoder`, instantiate a new encoder with the same hyper-parameter.\n",
        "1. Instantiate an object of `DigitDecoder2`.\n",
        "2. Create an optimiser object using the `DigitDecoder2` weights.\n"
      ],
      "metadata": {
        "id": "k94y4Bb-yhL7"
      }
    },
    {
      "cell_type": "code",
      "source": [
        "class DigitDecoder2(nn.Module):\n",
        "  # Fill out the class methods #################################################\n",
        "  # TODO📝: Create a new DigitDecoder2 class, with the difference in self.encoder,\n",
        "  #         where you need to a new cnn encoder with same hyper-parameter as in\n",
        "  #         section 2.1 without the last layer.\n",
        "  ##############################################################################\n",
        "  pass\n",
        "\n",
        "# options\n",
        "epochs = None       # number of epochs to train - TODO📝: set number of epochs\n",
        "lr = None           # learning rate - TODO📝: set appropriate lr\n",
        "hidden_size = None  # hidden size for rnn - TODO📝: you may use the last lr\n",
        "num_layer = None    # layers of rnn - TODO📝: decide on number of layers to have in the rnn\n",
        "\n",
        "e2eModel = DigitDecoder2()\n",
        "e2eOptimiser = None\n",
        "# End-to-end training ##########################################################\n",
        "# TODO📝: e2eModel = create an object of DigitDetector\n",
        "# TODO📝: e2eOptimiser = create an optimiser object using DigitDetector parameters\n",
        "################################################################################\n",
        "train(epochs, e2eOptimiser, e2eModel, mode='E2E')\n",
        "acc = evaluate(e2eModel, test_loader, mode='E2E')\n",
        "\n",
        "assert(acc > 95)"
      ],
      "metadata": {
        "id": "TtbsQ6qMygTb"
      },
      "execution_count": null,
      "outputs": []
    },
    {
      "cell_type": "markdown",
      "source": [
        "# 3 Inference\n",
        "## 3.1 Evaluation and models comparison\n",
        "---\n",
        "Now that we are done with training our models and hopefully have got near perfect accuracies on all our tasks, its time to see the predictions of our model.\n",
        "1. Complete the function `infer()` that displays any 10 images along with their predicted texts. We will call the function for the following models:\n",
        "    1. `combinationModel`\n",
        "    2. `tranferLearningModel`\n",
        "    3. `e2eModel`"
      ],
      "metadata": {
        "id": "xD8pta-Tzkm0"
      }
    },
    {
      "cell_type": "code",
      "source": [
        "def infer(model)\n",
        "  pass\n",
        "\n",
        "# Evaluation and models comparison #############################################\n",
        "# TODO📝: Complete the Infer(.) function\n",
        "################################################################################\n",
        "\n",
        "print('CombinationModel output: ')\n",
        "infer(combinationModel)\n",
        "print('TranferLearningModel output: ')\n",
        "infer(tranferLearningModel)\n",
        "print('E2eModel output: ')\n",
        "infer(e2eModel)"
      ],
      "metadata": {
        "id": "08xib6gw2s9a"
      },
      "execution_count": null,
      "outputs": []
    },
    {
      "cell_type": "markdown",
      "source": [
        "## Conclusion\n",
        "Congratulations!!! You just trained an image caption generator. Even though the problem on which we trained our model were simple MNIST images, the concepts and methods we learnt can be extended to train for harder datasets like [Flicker8k_Dataset](https://www.kaggle.com/datasets/adityajn105/flickr8k) or [Coco_Dataset](https://cocodataset.org/#home) as well.\n",
        "\n",
        "I would highly recomment that you try with these datasets and see how well different approaches are performing, you may need to tweak with more complex and deeper models in order to get satisfactory accuracy."
      ],
      "metadata": {
        "id": "AEPfnRFi0wRM"
      }
    }
  ]
}